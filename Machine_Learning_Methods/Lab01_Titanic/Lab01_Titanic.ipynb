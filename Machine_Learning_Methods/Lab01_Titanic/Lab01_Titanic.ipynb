{
 "cells": [
  {
   "cell_type": "markdown",
   "metadata": {
    "colab_type": "text",
    "id": "A-wYJpaYojUw"
   },
   "source": [
    "## Goal and metric"
   ]
  },
  {
   "cell_type": "markdown",
   "metadata": {
    "colab_type": "text",
    "id": "jWDAp1NIonvz"
   },
   "source": [
    "### Goal: To predict if a passenger survived the sinking of the Titanic or not.\n",
    "\n",
    "### Metric: Accuracy, The percentage of passengers the model correctly predict."
   ]
  },
  {
   "cell_type": "markdown",
   "metadata": {
    "colab_type": "text",
    "id": "HNctspGJosTh"
   },
   "source": [
    "### Exploring the Data"
   ]
  },
  {
   "cell_type": "code",
   "execution_count": 1,
   "metadata": {
    "colab": {},
    "colab_type": "code",
    "id": "I4USZfyWo0YN"
   },
   "outputs": [],
   "source": [
    "# import libraries\n",
    "import warnings\n",
    "warnings.filterwarnings('ignore')\n",
    "\n",
    "import pandas as pd \n",
    "import numpy as np\n",
    "import matplotlib.pyplot as plt\n",
    "import seaborn as sns\n",
    "%matplotlib inline"
   ]
  },
  {
   "cell_type": "code",
   "execution_count": 2,
   "metadata": {
    "colab": {
     "base_uri": "https://localhost:8080/",
     "height": 306
    },
    "colab_type": "code",
    "executionInfo": {
     "elapsed": 1453,
     "status": "ok",
     "timestamp": 1550008054479,
     "user": {
      "displayName": "Мария Мацкевичус",
      "photoUrl": "",
      "userId": "00635400777092193911"
     },
     "user_tz": -180
    },
    "id": "k-rtkyDbo4E3",
    "outputId": "d709efea-837a-4569-e1ed-6ee5b1ea31b4"
   },
   "outputs": [
    {
     "name": "stdout",
     "output_type": "stream",
     "text": [
      "<class 'pandas.core.frame.DataFrame'>\n",
      "RangeIndex: 891 entries, 0 to 890\n",
      "Data columns (total 12 columns):\n",
      "PassengerId    891 non-null int64\n",
      "Survived       891 non-null int64\n",
      "Pclass         891 non-null int64\n",
      "Name           891 non-null object\n",
      "Sex            891 non-null object\n",
      "Age            714 non-null float64\n",
      "SibSp          891 non-null int64\n",
      "Parch          891 non-null int64\n",
      "Ticket         891 non-null object\n",
      "Fare           891 non-null float64\n",
      "Cabin          204 non-null object\n",
      "Embarked       889 non-null object\n",
      "dtypes: float64(2), int64(5), object(5)\n",
      "memory usage: 83.6+ KB\n"
     ]
    }
   ],
   "source": [
    "# read data and get train info\n",
    "train = pd.read_csv('train.csv')\n",
    "test = pd.read_csv('test.csv')\n",
    "train.info()"
   ]
  },
  {
   "cell_type": "code",
   "execution_count": 3,
   "metadata": {
    "colab": {
     "base_uri": "https://localhost:8080/",
     "height": 297
    },
    "colab_type": "code",
    "executionInfo": {
     "elapsed": 699,
     "status": "ok",
     "timestamp": 1550008089758,
     "user": {
      "displayName": "Мария Мацкевичус",
      "photoUrl": "",
      "userId": "00635400777092193911"
     },
     "user_tz": -180
    },
    "id": "be3gMoTqqCp2",
    "outputId": "448fecbd-f367-442a-aaf2-04a0981986c9"
   },
   "outputs": [
    {
     "data": {
      "text/html": [
       "<div>\n",
       "<style scoped>\n",
       "    .dataframe tbody tr th:only-of-type {\n",
       "        vertical-align: middle;\n",
       "    }\n",
       "\n",
       "    .dataframe tbody tr th {\n",
       "        vertical-align: top;\n",
       "    }\n",
       "\n",
       "    .dataframe thead th {\n",
       "        text-align: right;\n",
       "    }\n",
       "</style>\n",
       "<table border=\"1\" class=\"dataframe\">\n",
       "  <thead>\n",
       "    <tr style=\"text-align: right;\">\n",
       "      <th></th>\n",
       "      <th>PassengerId</th>\n",
       "      <th>Survived</th>\n",
       "      <th>Pclass</th>\n",
       "      <th>Age</th>\n",
       "      <th>SibSp</th>\n",
       "      <th>Parch</th>\n",
       "      <th>Fare</th>\n",
       "    </tr>\n",
       "  </thead>\n",
       "  <tbody>\n",
       "    <tr>\n",
       "      <th>count</th>\n",
       "      <td>891.000000</td>\n",
       "      <td>891.000000</td>\n",
       "      <td>891.000000</td>\n",
       "      <td>714.000000</td>\n",
       "      <td>891.000000</td>\n",
       "      <td>891.000000</td>\n",
       "      <td>891.000000</td>\n",
       "    </tr>\n",
       "    <tr>\n",
       "      <th>mean</th>\n",
       "      <td>446.000000</td>\n",
       "      <td>0.383838</td>\n",
       "      <td>2.308642</td>\n",
       "      <td>29.699118</td>\n",
       "      <td>0.523008</td>\n",
       "      <td>0.381594</td>\n",
       "      <td>32.204208</td>\n",
       "    </tr>\n",
       "    <tr>\n",
       "      <th>std</th>\n",
       "      <td>257.353842</td>\n",
       "      <td>0.486592</td>\n",
       "      <td>0.836071</td>\n",
       "      <td>14.526497</td>\n",
       "      <td>1.102743</td>\n",
       "      <td>0.806057</td>\n",
       "      <td>49.693429</td>\n",
       "    </tr>\n",
       "    <tr>\n",
       "      <th>min</th>\n",
       "      <td>1.000000</td>\n",
       "      <td>0.000000</td>\n",
       "      <td>1.000000</td>\n",
       "      <td>0.420000</td>\n",
       "      <td>0.000000</td>\n",
       "      <td>0.000000</td>\n",
       "      <td>0.000000</td>\n",
       "    </tr>\n",
       "    <tr>\n",
       "      <th>25%</th>\n",
       "      <td>223.500000</td>\n",
       "      <td>0.000000</td>\n",
       "      <td>2.000000</td>\n",
       "      <td>20.125000</td>\n",
       "      <td>0.000000</td>\n",
       "      <td>0.000000</td>\n",
       "      <td>7.910400</td>\n",
       "    </tr>\n",
       "    <tr>\n",
       "      <th>50%</th>\n",
       "      <td>446.000000</td>\n",
       "      <td>0.000000</td>\n",
       "      <td>3.000000</td>\n",
       "      <td>28.000000</td>\n",
       "      <td>0.000000</td>\n",
       "      <td>0.000000</td>\n",
       "      <td>14.454200</td>\n",
       "    </tr>\n",
       "    <tr>\n",
       "      <th>75%</th>\n",
       "      <td>668.500000</td>\n",
       "      <td>1.000000</td>\n",
       "      <td>3.000000</td>\n",
       "      <td>38.000000</td>\n",
       "      <td>1.000000</td>\n",
       "      <td>0.000000</td>\n",
       "      <td>31.000000</td>\n",
       "    </tr>\n",
       "    <tr>\n",
       "      <th>max</th>\n",
       "      <td>891.000000</td>\n",
       "      <td>1.000000</td>\n",
       "      <td>3.000000</td>\n",
       "      <td>80.000000</td>\n",
       "      <td>8.000000</td>\n",
       "      <td>6.000000</td>\n",
       "      <td>512.329200</td>\n",
       "    </tr>\n",
       "  </tbody>\n",
       "</table>\n",
       "</div>"
      ],
      "text/plain": [
       "       PassengerId    Survived      Pclass         Age       SibSp  \\\n",
       "count   891.000000  891.000000  891.000000  714.000000  891.000000   \n",
       "mean    446.000000    0.383838    2.308642   29.699118    0.523008   \n",
       "std     257.353842    0.486592    0.836071   14.526497    1.102743   \n",
       "min       1.000000    0.000000    1.000000    0.420000    0.000000   \n",
       "25%     223.500000    0.000000    2.000000   20.125000    0.000000   \n",
       "50%     446.000000    0.000000    3.000000   28.000000    0.000000   \n",
       "75%     668.500000    1.000000    3.000000   38.000000    1.000000   \n",
       "max     891.000000    1.000000    3.000000   80.000000    8.000000   \n",
       "\n",
       "            Parch        Fare  \n",
       "count  891.000000  891.000000  \n",
       "mean     0.381594   32.204208  \n",
       "std      0.806057   49.693429  \n",
       "min      0.000000    0.000000  \n",
       "25%      0.000000    7.910400  \n",
       "50%      0.000000   14.454200  \n",
       "75%      0.000000   31.000000  \n",
       "max      6.000000  512.329200  "
      ]
     },
     "execution_count": 3,
     "metadata": {},
     "output_type": "execute_result"
    }
   ],
   "source": [
    "# get statisitcs  \n",
    "train.describe()"
   ]
  },
  {
   "cell_type": "code",
   "execution_count": 4,
   "metadata": {
    "colab": {
     "base_uri": "https://localhost:8080/",
     "height": 34
    },
    "colab_type": "code",
    "executionInfo": {
     "elapsed": 416,
     "status": "ok",
     "timestamp": 1550008091284,
     "user": {
      "displayName": "Мария Мацкевичус",
      "photoUrl": "",
      "userId": "00635400777092193911"
     },
     "user_tz": -180
    },
    "id": "6cYgXCGiqILm",
    "outputId": "d1787815-c235-48f6-e827-38c04cd33736"
   },
   "outputs": [
    {
     "name": "stdout",
     "output_type": "stream",
     "text": [
      "Overall Survival Rate: 0.384\n"
     ]
    }
   ],
   "source": [
    "# show the overall survival rate \n",
    "print('Overall Survival Rate:', round(train['Survived'].mean(), 3))"
   ]
  },
  {
   "cell_type": "markdown",
   "metadata": {
    "colab_type": "text",
    "id": "ucqgtRHnrskL"
   },
   "source": [
    "## Data cleaning and feature selection"
   ]
  },
  {
   "cell_type": "code",
   "execution_count": 5,
   "metadata": {
    "colab": {},
    "colab_type": "code",
    "id": "9JGZm3diq5Cr"
   },
   "outputs": [],
   "source": [
    "# get_dummies function\n",
    "def dummies(col,train,test):\n",
    "    train_dum = pd.get_dummies(train[col])\n",
    "    test_dum = pd.get_dummies(test[col])\n",
    "    train = pd.concat([train, train_dum], axis=1)\n",
    "    test = pd.concat([test,test_dum],axis=1)\n",
    "    train.drop(col,axis=1,inplace=True)\n",
    "    test.drop(col,axis=1,inplace=True)\n",
    "    return train, test\n",
    "\n",
    "# delete the useless cols\n",
    "dropping = ['PassengerId', 'Name', 'Ticket']\n",
    "train.drop(dropping,axis=1, inplace=True)\n",
    "test.drop(dropping,axis=1, inplace=True)"
   ]
  },
  {
   "cell_type": "code",
   "execution_count": 6,
   "metadata": {
    "colab": {
     "base_uri": "https://localhost:8080/",
     "height": 365
    },
    "colab_type": "code",
    "executionInfo": {
     "elapsed": 812,
     "status": "ok",
     "timestamp": 1550008187231,
     "user": {
      "displayName": "Мария Мацкевичус",
      "photoUrl": "",
      "userId": "00635400777092193911"
     },
     "user_tz": -180
    },
    "id": "Gz8_4YDSr5N2",
    "outputId": "aa3d40a1-5c06-43ec-9242-500d23341448"
   },
   "outputs": [
    {
     "name": "stdout",
     "output_type": "stream",
     "text": [
      "3    491\n",
      "1    216\n",
      "2    184\n",
      "Name: Pclass, dtype: int64\n"
     ]
    },
    {
     "data": {
      "image/png": "[encoded data removed]",
      "text/plain": [
       "<Figure size 360x360 with 1 Axes>"
      ]
     },
     "metadata": {
      "needs_background": "light"
     },
     "output_type": "display_data"
    }
   ],
   "source": [
    "# pclass\n",
    "# ensure no NA contained\n",
    "print(train.Pclass.value_counts(dropna=False))\n",
    "sns.catplot('Pclass', 'Survived',data=train, order=[1,2,3], kind='bar')\n",
    "# according to the graph, we found there are huge differences between\n",
    "# each pclass group. keep the ft\n",
    "train, test = dummies('Pclass', train, test)\n",
    "plt.show()"
   ]
  },
  {
   "cell_type": "code",
   "execution_count": 7,
   "metadata": {
    "colab": {
     "base_uri": "https://localhost:8080/",
     "height": 348
    },
    "colab_type": "code",
    "executionInfo": {
     "elapsed": 771,
     "status": "ok",
     "timestamp": 1550008204643,
     "user": {
      "displayName": "Мария Мацкевичус",
      "photoUrl": "",
      "userId": "00635400777092193911"
     },
     "user_tz": -180
    },
    "id": "JsZwN7Eor_XW",
    "outputId": "80196b4b-4d83-4571-c302-782fcd55e330"
   },
   "outputs": [
    {
     "name": "stdout",
     "output_type": "stream",
     "text": [
      "male      577\n",
      "female    314\n",
      "Name: Sex, dtype: int64\n"
     ]
    },
    {
     "data": {
      "image/png": "[encoded data removed]",
      "text/plain": [
       "<Figure size 360x360 with 1 Axes>"
      ]
     },
     "metadata": {
      "needs_background": "light"
     },
     "output_type": "display_data"
    }
   ],
   "source": [
    "# sex\n",
    "print(train.Sex.value_counts(dropna=False))\n",
    "sns.catplot('Sex','Survived', data=train, kind='bar')\n",
    "# female survival rate is way better than the male\n",
    "train, test = dummies('Sex', train, test)\n",
    "plt.show()"
   ]
  },
  {
   "cell_type": "code",
   "execution_count": 8,
   "metadata": {},
   "outputs": [
    {
     "name": "stdout",
     "output_type": "stream",
     "text": [
      "177\n"
     ]
    }
   ],
   "source": [
    "#age \n",
    "#dealing the missing data\n",
    "nan_num = train['Age'].isnull().sum()\n",
    "print(nan_num)"
   ]
  },
  {
   "cell_type": "code",
   "execution_count": 9,
   "metadata": {},
   "outputs": [
    {
     "name": "stdout",
     "output_type": "stream",
     "text": [
      "714\n"
     ]
    }
   ],
   "source": [
    "check = train[train['Age'].notnull()]\n",
    "print(len(check))"
   ]
  },
  {
   "cell_type": "code",
   "execution_count": 10,
   "metadata": {},
   "outputs": [
    {
     "data": {
      "image/png": "[encoded data removed]",
      "text/plain": [
       "<Figure size 432x288 with 1 Axes>"
      ]
     },
     "metadata": {
      "needs_background": "light"
     },
     "output_type": "display_data"
    }
   ],
   "source": [
    "check['Age'].plot(kind='hist')\n",
    "plt.show()"
   ]
  },
  {
   "cell_type": "code",
   "execution_count": 11,
   "metadata": {},
   "outputs": [
    {
     "name": "stdout",
     "output_type": "stream",
     "text": [
      "0\n"
     ]
    }
   ],
   "source": [
    "# there are 177 missing value, fill with random int\n",
    "age_mean = train['Age'].mean()\n",
    "age_std = train['Age'].std()\n",
    "filling = np.random.randint(age_mean-2*age_std, age_mean+2*age_std, size=nan_num)\n",
    "train['Age'][train['Age'].isnull()==True] = train['Age'].mean()\n",
    "nan_num = train['Age'].isnull().sum()\n",
    "print(nan_num)"
   ]
  },
  {
   "cell_type": "code",
   "execution_count": 12,
   "metadata": {},
   "outputs": [],
   "source": [
    "# dealing the missing val in test\n",
    "nan_num = test['Age'].isnull().sum()"
   ]
  },
  {
   "cell_type": "code",
   "execution_count": 13,
   "metadata": {},
   "outputs": [
    {
     "name": "stdout",
     "output_type": "stream",
     "text": [
      "0\n"
     ]
    }
   ],
   "source": [
    "# 86 null\n",
    "age_mean = test['Age'].mean()\n",
    "age_std = test['Age'].std()\n",
    "filling = np.random.randint(age_mean-2*age_std,age_mean+2*age_std,size=nan_num)\n",
    "filling = test['Age'].mean()\n",
    "test['Age'][test['Age'].isnull()==True]=filling\n",
    "nan_num = test['Age'].isnull().sum()\n",
    "print(nan_num)"
   ]
  },
  {
   "cell_type": "code",
   "execution_count": 14,
   "metadata": {},
   "outputs": [
    {
     "name": "stdout",
     "output_type": "stream",
     "text": [
      "0    608\n",
      "1    209\n",
      "2     28\n",
      "4     18\n",
      "3     16\n",
      "8      7\n",
      "5      5\n",
      "Name: SibSp, dtype: int64\n",
      "0    678\n",
      "1    118\n",
      "2     80\n",
      "5      5\n",
      "3      5\n",
      "4      4\n",
      "6      1\n",
      "Name: Parch, dtype: int64\n"
     ]
    },
    {
     "data": {
      "image/png": "[encoded data removed]",
      "text/plain": [
       "<Figure size 360x360 with 1 Axes>"
      ]
     },
     "metadata": {
      "needs_background": "light"
     },
     "output_type": "display_data"
    },
    {
     "data": {
      "image/png": "[encoded data removed]",
      "text/plain": [
       "<Figure size 360x360 with 1 Axes>"
      ]
     },
     "metadata": {
      "needs_background": "light"
     },
     "output_type": "display_data"
    }
   ],
   "source": [
    "#family\n",
    "print(train['SibSp'].value_counts(dropna=False))\n",
    "print(train['Parch'].value_counts(dropna=False))\n",
    "\n",
    "sns.catplot('SibSp','Survived',data=train,height=5, kind='bar')\n",
    "sns.catplot('Parch','Survived',data=train,height=5, kind='bar')\n",
    "plt.show()"
   ]
  },
  {
   "cell_type": "code",
   "execution_count": 15,
   "metadata": {
    "colab": {
     "base_uri": "https://localhost:8080/",
     "height": 1345
    },
    "colab_type": "code",
    "executionInfo": {
     "elapsed": 1507,
     "status": "ok",
     "timestamp": 1550008245981,
     "user": {
      "displayName": "Мария Мацкевичус",
      "photoUrl": "",
      "userId": "00635400777092193911"
     },
     "user_tz": -180
    },
    "id": "f2FYX94EsHQ3",
    "outputId": "f68941f6-5a85-47e5-8147-8a4a8dd1e060"
   },
   "outputs": [
    {
     "data": {
      "image/png": "[encoded data removed]",
      "text/plain": [
       "<Figure size 360x360 with 1 Axes>"
      ]
     },
     "metadata": {
      "needs_background": "light"
     },
     "output_type": "display_data"
    }
   ],
   "source": [
    "'''through the plot, we suggest that with more family member, \n",
    "the survival rate will drop, we can create the new col\n",
    "add up the parch and sibsp to check our theory''' \n",
    "\n",
    "train['family'] = train['SibSp'] + train['Parch']\n",
    "test['family'] = test['SibSp'] + test['Parch']\n",
    "sns.catplot('family','Survived',data=train,height=5, kind='bar')\n",
    "\n",
    "train.drop(['SibSp','Parch'],axis=1,inplace=True)\n",
    "test.drop(['SibSp','Parch'],axis=1,inplace=True)"
   ]
  },
  {
   "cell_type": "code",
   "execution_count": 16,
   "metadata": {},
   "outputs": [
    {
     "name": "stdout",
     "output_type": "stream",
     "text": [
      "0\n",
      "1\n"
     ]
    }
   ],
   "source": [
    "# fare\n",
    "print(train.Fare.isnull().sum())\n",
    "print(test.Fare.isnull().sum())"
   ]
  },
  {
   "cell_type": "code",
   "execution_count": 17,
   "metadata": {
    "colab": {
     "base_uri": "https://localhost:8080/",
     "height": 369
    },
    "colab_type": "code",
    "executionInfo": {
     "elapsed": 1038,
     "status": "ok",
     "timestamp": 1550008263688,
     "user": {
      "displayName": "Мария Мацкевичус",
      "photoUrl": "",
      "userId": "00635400777092193911"
     },
     "user_tz": -180
    },
    "id": "-DcDNFRCsNiT",
    "outputId": "9afede97-89eb-455f-a708-93039cc6bfb5"
   },
   "outputs": [
    {
     "data": {
      "image/png": "[encoded data removed]",
      "text/plain": [
       "<Figure size 360x360 with 1 Axes>"
      ]
     },
     "metadata": {
      "needs_background": "light"
     },
     "output_type": "display_data"
    }
   ],
   "source": [
    "sns.catplot('Survived','Fare',data=train,height=5, kind='bar')\n",
    "test['Fare'].fillna(test['Fare'].median(),inplace=True)"
   ]
  },
  {
   "cell_type": "code",
   "execution_count": 18,
   "metadata": {},
   "outputs": [
    {
     "data": {
      "text/plain": [
       "687"
      ]
     },
     "execution_count": 18,
     "metadata": {},
     "output_type": "execute_result"
    }
   ],
   "source": [
    "#Cabin\n",
    "# checking missing val\n",
    "# 687 out of 891 are missing, drop this col\n",
    "train.Cabin.isnull().sum()"
   ]
  },
  {
   "cell_type": "code",
   "execution_count": 19,
   "metadata": {
    "colab": {},
    "colab_type": "code",
    "id": "_nraF5tLsR-W"
   },
   "outputs": [],
   "source": [
    "train.drop('Cabin',axis=1,inplace=True)\n",
    "test.drop('Cabin',axis=1,inplace=True)"
   ]
  },
  {
   "cell_type": "code",
   "execution_count": 20,
   "metadata": {},
   "outputs": [
    {
     "name": "stdout",
     "output_type": "stream",
     "text": [
      "2\n"
     ]
    },
    {
     "data": {
      "text/plain": [
       "S    644\n",
       "C    168\n",
       "Q     77\n",
       "Name: Embarked, dtype: int64"
      ]
     },
     "execution_count": 20,
     "metadata": {},
     "output_type": "execute_result"
    }
   ],
   "source": [
    "#Embark\n",
    "print(train.Embarked.isnull().sum())\n",
    "# 2 missing value\n",
    "train.Embarked.value_counts()"
   ]
  },
  {
   "cell_type": "code",
   "execution_count": 21,
   "metadata": {
    "colab": {
     "base_uri": "https://localhost:8080/",
     "height": 441
    },
    "colab_type": "code",
    "executionInfo": {
     "elapsed": 886,
     "status": "ok",
     "timestamp": 1550008283764,
     "user": {
      "displayName": "Мария Мацкевичус",
      "photoUrl": "",
      "userId": "00635400777092193911"
     },
     "user_tz": -180
    },
    "id": "nOPQqoqCsUzc",
    "outputId": "9c8cf89b-5560-4991-c036-96e2ca6ad394"
   },
   "outputs": [
    {
     "data": {
      "image/png": "[encoded data removed]",
      "text/plain": [
       "<Figure size 432x432 with 1 Axes>"
      ]
     },
     "metadata": {
      "needs_background": "light"
     },
     "output_type": "display_data"
    }
   ],
   "source": [
    "# fill the majority val,'s', into missing val col\n",
    "train['Embarked'].fillna('S',inplace=True)\n",
    "\n",
    "sns.catplot('Embarked','Survived',data=train,height=6, kind='bar')\n",
    "train,test = dummies('Embarked',train,test)"
   ]
  },
  {
   "cell_type": "code",
   "execution_count": 22,
   "metadata": {},
   "outputs": [],
   "source": [
    "# normalization 'Fare' feature\n",
    "train['Fare'] = (train['Fare'] - train['Fare'].mean())/train['Fare'].std()"
   ]
  },
  {
   "cell_type": "code",
   "execution_count": 23,
   "metadata": {},
   "outputs": [
    {
     "data": {
      "text/html": [
       "<div>\n",
       "<style scoped>\n",
       "    .dataframe tbody tr th:only-of-type {\n",
       "        vertical-align: middle;\n",
       "    }\n",
       "\n",
       "    .dataframe tbody tr th {\n",
       "        vertical-align: top;\n",
       "    }\n",
       "\n",
       "    .dataframe thead th {\n",
       "        text-align: right;\n",
       "    }\n",
       "</style>\n",
       "<table border=\"1\" class=\"dataframe\">\n",
       "  <thead>\n",
       "    <tr style=\"text-align: right;\">\n",
       "      <th></th>\n",
       "      <th>Survived</th>\n",
       "      <th>Age</th>\n",
       "      <th>Fare</th>\n",
       "      <th>1</th>\n",
       "      <th>2</th>\n",
       "      <th>3</th>\n",
       "      <th>female</th>\n",
       "      <th>male</th>\n",
       "      <th>family</th>\n",
       "      <th>C</th>\n",
       "      <th>Q</th>\n",
       "      <th>S</th>\n",
       "    </tr>\n",
       "  </thead>\n",
       "  <tbody>\n",
       "    <tr>\n",
       "      <th>Survived</th>\n",
       "      <td>1.000000</td>\n",
       "      <td>-0.069809</td>\n",
       "      <td>0.257307</td>\n",
       "      <td>0.285904</td>\n",
       "      <td>0.093349</td>\n",
       "      <td>-0.322308</td>\n",
       "      <td>0.543351</td>\n",
       "      <td>-0.543351</td>\n",
       "      <td>0.016639</td>\n",
       "      <td>0.168240</td>\n",
       "      <td>0.003650</td>\n",
       "      <td>-0.149683</td>\n",
       "    </tr>\n",
       "    <tr>\n",
       "      <th>Age</th>\n",
       "      <td>-0.069809</td>\n",
       "      <td>1.000000</td>\n",
       "      <td>0.091566</td>\n",
       "      <td>0.319916</td>\n",
       "      <td>0.006589</td>\n",
       "      <td>-0.281004</td>\n",
       "      <td>-0.084153</td>\n",
       "      <td>0.084153</td>\n",
       "      <td>-0.248512</td>\n",
       "      <td>0.032024</td>\n",
       "      <td>-0.013855</td>\n",
       "      <td>-0.019336</td>\n",
       "    </tr>\n",
       "    <tr>\n",
       "      <th>Fare</th>\n",
       "      <td>0.257307</td>\n",
       "      <td>0.091566</td>\n",
       "      <td>1.000000</td>\n",
       "      <td>0.591711</td>\n",
       "      <td>-0.118557</td>\n",
       "      <td>-0.413333</td>\n",
       "      <td>0.182333</td>\n",
       "      <td>-0.182333</td>\n",
       "      <td>0.217138</td>\n",
       "      <td>0.269335</td>\n",
       "      <td>-0.117216</td>\n",
       "      <td>-0.162184</td>\n",
       "    </tr>\n",
       "    <tr>\n",
       "      <th>1</th>\n",
       "      <td>0.285904</td>\n",
       "      <td>0.319916</td>\n",
       "      <td>0.591711</td>\n",
       "      <td>1.000000</td>\n",
       "      <td>-0.288585</td>\n",
       "      <td>-0.626738</td>\n",
       "      <td>0.098013</td>\n",
       "      <td>-0.098013</td>\n",
       "      <td>-0.046114</td>\n",
       "      <td>0.296423</td>\n",
       "      <td>-0.155342</td>\n",
       "      <td>-0.161921</td>\n",
       "    </tr>\n",
       "    <tr>\n",
       "      <th>2</th>\n",
       "      <td>0.093349</td>\n",
       "      <td>0.006589</td>\n",
       "      <td>-0.118557</td>\n",
       "      <td>-0.288585</td>\n",
       "      <td>1.000000</td>\n",
       "      <td>-0.565210</td>\n",
       "      <td>0.064746</td>\n",
       "      <td>-0.064746</td>\n",
       "      <td>-0.038594</td>\n",
       "      <td>-0.125416</td>\n",
       "      <td>-0.127301</td>\n",
       "      <td>0.189980</td>\n",
       "    </tr>\n",
       "    <tr>\n",
       "      <th>3</th>\n",
       "      <td>-0.322308</td>\n",
       "      <td>-0.281004</td>\n",
       "      <td>-0.413333</td>\n",
       "      <td>-0.626738</td>\n",
       "      <td>-0.565210</td>\n",
       "      <td>1.000000</td>\n",
       "      <td>-0.137143</td>\n",
       "      <td>0.137143</td>\n",
       "      <td>0.071142</td>\n",
       "      <td>-0.153329</td>\n",
       "      <td>0.237449</td>\n",
       "      <td>-0.015104</td>\n",
       "    </tr>\n",
       "    <tr>\n",
       "      <th>female</th>\n",
       "      <td>0.543351</td>\n",
       "      <td>-0.084153</td>\n",
       "      <td>0.182333</td>\n",
       "      <td>0.098013</td>\n",
       "      <td>0.064746</td>\n",
       "      <td>-0.137143</td>\n",
       "      <td>1.000000</td>\n",
       "      <td>-1.000000</td>\n",
       "      <td>0.200988</td>\n",
       "      <td>0.082853</td>\n",
       "      <td>0.074115</td>\n",
       "      <td>-0.119224</td>\n",
       "    </tr>\n",
       "    <tr>\n",
       "      <th>male</th>\n",
       "      <td>-0.543351</td>\n",
       "      <td>0.084153</td>\n",
       "      <td>-0.182333</td>\n",
       "      <td>-0.098013</td>\n",
       "      <td>-0.064746</td>\n",
       "      <td>0.137143</td>\n",
       "      <td>-1.000000</td>\n",
       "      <td>1.000000</td>\n",
       "      <td>-0.200988</td>\n",
       "      <td>-0.082853</td>\n",
       "      <td>-0.074115</td>\n",
       "      <td>0.119224</td>\n",
       "    </tr>\n",
       "    <tr>\n",
       "      <th>family</th>\n",
       "      <td>0.016639</td>\n",
       "      <td>-0.248512</td>\n",
       "      <td>0.217138</td>\n",
       "      <td>-0.046114</td>\n",
       "      <td>-0.038594</td>\n",
       "      <td>0.071142</td>\n",
       "      <td>0.200988</td>\n",
       "      <td>-0.200988</td>\n",
       "      <td>1.000000</td>\n",
       "      <td>-0.046215</td>\n",
       "      <td>-0.058592</td>\n",
       "      <td>0.077359</td>\n",
       "    </tr>\n",
       "    <tr>\n",
       "      <th>C</th>\n",
       "      <td>0.168240</td>\n",
       "      <td>0.032024</td>\n",
       "      <td>0.269335</td>\n",
       "      <td>0.296423</td>\n",
       "      <td>-0.125416</td>\n",
       "      <td>-0.153329</td>\n",
       "      <td>0.082853</td>\n",
       "      <td>-0.082853</td>\n",
       "      <td>-0.046215</td>\n",
       "      <td>1.000000</td>\n",
       "      <td>-0.148258</td>\n",
       "      <td>-0.782742</td>\n",
       "    </tr>\n",
       "    <tr>\n",
       "      <th>Q</th>\n",
       "      <td>0.003650</td>\n",
       "      <td>-0.013855</td>\n",
       "      <td>-0.117216</td>\n",
       "      <td>-0.155342</td>\n",
       "      <td>-0.127301</td>\n",
       "      <td>0.237449</td>\n",
       "      <td>0.074115</td>\n",
       "      <td>-0.074115</td>\n",
       "      <td>-0.058592</td>\n",
       "      <td>-0.148258</td>\n",
       "      <td>1.000000</td>\n",
       "      <td>-0.499421</td>\n",
       "    </tr>\n",
       "    <tr>\n",
       "      <th>S</th>\n",
       "      <td>-0.149683</td>\n",
       "      <td>-0.019336</td>\n",
       "      <td>-0.162184</td>\n",
       "      <td>-0.161921</td>\n",
       "      <td>0.189980</td>\n",
       "      <td>-0.015104</td>\n",
       "      <td>-0.119224</td>\n",
       "      <td>0.119224</td>\n",
       "      <td>0.077359</td>\n",
       "      <td>-0.782742</td>\n",
       "      <td>-0.499421</td>\n",
       "      <td>1.000000</td>\n",
       "    </tr>\n",
       "  </tbody>\n",
       "</table>\n",
       "</div>"
      ],
      "text/plain": [
       "          Survived       Age      Fare         1         2         3  \\\n",
       "Survived  1.000000 -0.069809  0.257307  0.285904  0.093349 -0.322308   \n",
       "Age      -0.069809  1.000000  0.091566  0.319916  0.006589 -0.281004   \n",
       "Fare      0.257307  0.091566  1.000000  0.591711 -0.118557 -0.413333   \n",
       "1         0.285904  0.319916  0.591711  1.000000 -0.288585 -0.626738   \n",
       "2         0.093349  0.006589 -0.118557 -0.288585  1.000000 -0.565210   \n",
       "3        -0.322308 -0.281004 -0.413333 -0.626738 -0.565210  1.000000   \n",
       "female    0.543351 -0.084153  0.182333  0.098013  0.064746 -0.137143   \n",
       "male     -0.543351  0.084153 -0.182333 -0.098013 -0.064746  0.137143   \n",
       "family    0.016639 -0.248512  0.217138 -0.046114 -0.038594  0.071142   \n",
       "C         0.168240  0.032024  0.269335  0.296423 -0.125416 -0.153329   \n",
       "Q         0.003650 -0.013855 -0.117216 -0.155342 -0.127301  0.237449   \n",
       "S        -0.149683 -0.019336 -0.162184 -0.161921  0.189980 -0.015104   \n",
       "\n",
       "            female      male    family         C         Q         S  \n",
       "Survived  0.543351 -0.543351  0.016639  0.168240  0.003650 -0.149683  \n",
       "Age      -0.084153  0.084153 -0.248512  0.032024 -0.013855 -0.019336  \n",
       "Fare      0.182333 -0.182333  0.217138  0.269335 -0.117216 -0.162184  \n",
       "1         0.098013 -0.098013 -0.046114  0.296423 -0.155342 -0.161921  \n",
       "2         0.064746 -0.064746 -0.038594 -0.125416 -0.127301  0.189980  \n",
       "3        -0.137143  0.137143  0.071142 -0.153329  0.237449 -0.015104  \n",
       "female    1.000000 -1.000000  0.200988  0.082853  0.074115 -0.119224  \n",
       "male     -1.000000  1.000000 -0.200988 -0.082853 -0.074115  0.119224  \n",
       "family    0.200988 -0.200988  1.000000 -0.046215 -0.058592  0.077359  \n",
       "C         0.082853 -0.082853 -0.046215  1.000000 -0.148258 -0.782742  \n",
       "Q         0.074115 -0.074115 -0.058592 -0.148258  1.000000 -0.499421  \n",
       "S        -0.119224  0.119224  0.077359 -0.782742 -0.499421  1.000000  "
      ]
     },
     "execution_count": 23,
     "metadata": {},
     "output_type": "execute_result"
    }
   ],
   "source": [
    "train.corr()"
   ]
  },
  {
   "cell_type": "markdown",
   "metadata": {
    "colab_type": "text",
    "id": "BHId8fXhsYv3"
   },
   "source": [
    "## Model and prediction"
   ]
  },
  {
   "cell_type": "code",
   "execution_count": 24,
   "metadata": {
    "colab": {},
    "colab_type": "code",
    "id": "HHkKg0OFsW6T"
   },
   "outputs": [],
   "source": [
    "# import machine learning libraries\n",
    "from sklearn.linear_model import LogisticRegression\n",
    "from sklearn.svm import SVC, LinearSVC\n",
    "from sklearn.ensemble import RandomForestClassifier\n",
    "from sklearn.neighbors import KNeighborsClassifier\n",
    "from sklearn.metrics import accuracy_score\n",
    "from sklearn.model_selection import cross_val_score, KFold\n",
    "\n",
    "def modeling(clf,ft,target):\n",
    "    acc = cross_val_score(clf,ft,target,cv=kf)\n",
    "    acc_lst.append(acc.mean())\n",
    "    return \n",
    "\n",
    "accuracy = []\n",
    "def ml(ft,target,time):\n",
    "    accuracy.append(acc_lst)\n",
    "\n",
    "    #logisticregression\n",
    "    logreg = LogisticRegression()\n",
    "    modeling(logreg,ft,target)\n",
    "    #RandomForest\n",
    "    rf = RandomForestClassifier(n_estimators=50,min_samples_split=4,min_samples_leaf=2)\n",
    "    modeling(rf,ft,target)\n",
    "    #svc\n",
    "    svc = SVC()\n",
    "    modeling(svc,ft,target)\n",
    "    #knn\n",
    "    knn = KNeighborsClassifier(n_neighbors = 3)\n",
    "    modeling(knn,ft,target)\n",
    "    \n",
    "    # see the coefficient\n",
    "    logreg.fit(ft,target)\n",
    "    feature = pd.DataFrame(ft.columns)\n",
    "    feature.columns = ['Features']\n",
    "    feature[\"Coefficient Estimate\"] = pd.Series(logreg.coef_[0])\n",
    "    print(feature)\n",
    "    return "
   ]
  },
  {
   "cell_type": "code",
   "execution_count": 25,
   "metadata": {},
   "outputs": [
    {
     "data": {
      "text/html": [
       "<div>\n",
       "<style scoped>\n",
       "    .dataframe tbody tr th:only-of-type {\n",
       "        vertical-align: middle;\n",
       "    }\n",
       "\n",
       "    .dataframe tbody tr th {\n",
       "        vertical-align: top;\n",
       "    }\n",
       "\n",
       "    .dataframe thead th {\n",
       "        text-align: right;\n",
       "    }\n",
       "</style>\n",
       "<table border=\"1\" class=\"dataframe\">\n",
       "  <thead>\n",
       "    <tr style=\"text-align: right;\">\n",
       "      <th></th>\n",
       "      <th>Survived</th>\n",
       "      <th>Age</th>\n",
       "      <th>Fare</th>\n",
       "      <th>1</th>\n",
       "      <th>2</th>\n",
       "      <th>3</th>\n",
       "      <th>female</th>\n",
       "      <th>male</th>\n",
       "      <th>family</th>\n",
       "      <th>C</th>\n",
       "      <th>Q</th>\n",
       "      <th>S</th>\n",
       "    </tr>\n",
       "  </thead>\n",
       "  <tbody>\n",
       "    <tr>\n",
       "      <th>0</th>\n",
       "      <td>0</td>\n",
       "      <td>22.0</td>\n",
       "      <td>-0.502163</td>\n",
       "      <td>0</td>\n",
       "      <td>0</td>\n",
       "      <td>1</td>\n",
       "      <td>0</td>\n",
       "      <td>1</td>\n",
       "      <td>1</td>\n",
       "      <td>0</td>\n",
       "      <td>0</td>\n",
       "      <td>1</td>\n",
       "    </tr>\n",
       "    <tr>\n",
       "      <th>1</th>\n",
       "      <td>1</td>\n",
       "      <td>38.0</td>\n",
       "      <td>0.786404</td>\n",
       "      <td>1</td>\n",
       "      <td>0</td>\n",
       "      <td>0</td>\n",
       "      <td>1</td>\n",
       "      <td>0</td>\n",
       "      <td>1</td>\n",
       "      <td>1</td>\n",
       "      <td>0</td>\n",
       "      <td>0</td>\n",
       "    </tr>\n",
       "    <tr>\n",
       "      <th>2</th>\n",
       "      <td>1</td>\n",
       "      <td>26.0</td>\n",
       "      <td>-0.488580</td>\n",
       "      <td>0</td>\n",
       "      <td>0</td>\n",
       "      <td>1</td>\n",
       "      <td>1</td>\n",
       "      <td>0</td>\n",
       "      <td>0</td>\n",
       "      <td>0</td>\n",
       "      <td>0</td>\n",
       "      <td>1</td>\n",
       "    </tr>\n",
       "    <tr>\n",
       "      <th>3</th>\n",
       "      <td>1</td>\n",
       "      <td>35.0</td>\n",
       "      <td>0.420494</td>\n",
       "      <td>1</td>\n",
       "      <td>0</td>\n",
       "      <td>0</td>\n",
       "      <td>1</td>\n",
       "      <td>0</td>\n",
       "      <td>1</td>\n",
       "      <td>0</td>\n",
       "      <td>0</td>\n",
       "      <td>1</td>\n",
       "    </tr>\n",
       "    <tr>\n",
       "      <th>4</th>\n",
       "      <td>0</td>\n",
       "      <td>35.0</td>\n",
       "      <td>-0.486064</td>\n",
       "      <td>0</td>\n",
       "      <td>0</td>\n",
       "      <td>1</td>\n",
       "      <td>0</td>\n",
       "      <td>1</td>\n",
       "      <td>0</td>\n",
       "      <td>0</td>\n",
       "      <td>0</td>\n",
       "      <td>1</td>\n",
       "    </tr>\n",
       "  </tbody>\n",
       "</table>\n",
       "</div>"
      ],
      "text/plain": [
       "   Survived   Age      Fare  1  2  3  female  male  family  C  Q  S\n",
       "0         0  22.0 -0.502163  0  0  1       0     1       1  0  0  1\n",
       "1         1  38.0  0.786404  1  0  0       1     0       1  1  0  0\n",
       "2         1  26.0 -0.488580  0  0  1       1     0       0  0  0  1\n",
       "3         1  35.0  0.420494  1  0  0       1     0       1  0  0  1\n",
       "4         0  35.0 -0.486064  0  0  1       0     1       0  0  0  1"
      ]
     },
     "execution_count": 25,
     "metadata": {},
     "output_type": "execute_result"
    }
   ],
   "source": [
    "train.head()"
   ]
  },
  {
   "cell_type": "code",
   "execution_count": 26,
   "metadata": {
    "colab": {
     "base_uri": "https://localhost:8080/",
     "height": 187
    },
    "colab_type": "code",
    "executionInfo": {
     "elapsed": 775,
     "status": "ok",
     "timestamp": 1550008341571,
     "user": {
      "displayName": "Мария Мацкевичус",
      "photoUrl": "",
      "userId": "00635400777092193911"
     },
     "user_tz": -180
    },
    "id": "obgkm-M_sf8n",
    "outputId": "26bf63db-0d7a-453d-8dd2-5f987cb1082a"
   },
   "outputs": [
    {
     "name": "stdout",
     "output_type": "stream",
     "text": [
      "   Features  Coefficient Estimate\n",
      "0       Age             -0.035930\n",
      "1      Fare              0.143096\n",
      "2         1              1.176867\n",
      "3         2              0.344123\n",
      "4         3             -0.830045\n",
      "5    female              1.676972\n",
      "6      male             -0.986028\n",
      "7    family             -0.213710\n",
      "8         C              0.408259\n",
      "9         Q              0.319096\n",
      "10        S             -0.036410\n"
     ]
    }
   ],
   "source": [
    "# testing no.1, using all the feature\n",
    "train_ft=train.drop(['Survived'],axis=1)\n",
    "train_y=train['Survived']\n",
    "#set kf\n",
    "kf = KFold(n_splits=3,random_state=1)\n",
    "acc_lst = []\n",
    "ml(train_ft,train_y,'test_1')"
   ]
  },
  {
   "cell_type": "code",
   "execution_count": 27,
   "metadata": {},
   "outputs": [
    {
     "name": "stdout",
     "output_type": "stream",
     "text": [
      "  Features  Coefficient Estimate\n",
      "0     Fare              0.172377\n",
      "1        1              0.731584\n",
      "2        2              0.231216\n",
      "3        3             -0.809076\n",
      "4   female              1.414332\n",
      "5     male             -1.260607\n",
      "6   family             -0.160921\n",
      "7        C              0.287562\n",
      "8        Q              0.080167\n",
      "9        S             -0.214005\n"
     ]
    }
   ],
   "source": [
    "# testing no.2 no Age\n",
    "train_ft=train.drop(['Survived','Age'],axis=1)\n",
    "train_y=train['Survived']\n",
    "#set kf\n",
    "kf = KFold(n_splits=3,random_state=1)\n",
    "acc_lst = []\n",
    "ml(train_ft,train_y,'test_2')"
   ]
  },
  {
   "cell_type": "code",
   "execution_count": 28,
   "metadata": {
    "colab": {
     "base_uri": "https://localhost:8080/",
     "height": 170
    },
    "colab_type": "code",
    "executionInfo": {
     "elapsed": 794,
     "status": "ok",
     "timestamp": 1550008406603,
     "user": {
      "displayName": "Мария Мацкевичус",
      "photoUrl": "",
      "userId": "00635400777092193911"
     },
     "user_tz": -180
    },
    "id": "c_7Yr-Yhsugt",
    "outputId": "4f543920-d025-4dae-ff7d-6f4ade987bb0"
   },
   "outputs": [
    {
     "name": "stdout",
     "output_type": "stream",
     "text": [
      "  Features  Coefficient Estimate\n",
      "0      Age             -0.036427\n",
      "1        1              1.288641\n",
      "2        2              0.310992\n",
      "3        3             -0.900762\n",
      "4   female              1.685599\n",
      "5     male             -0.986728\n",
      "6   family             -0.191250\n",
      "7        C              0.435256\n",
      "8        Q              0.315783\n",
      "9        S             -0.052168\n"
     ]
    }
   ],
   "source": [
    "# test3, no FARE\n",
    "train_ft_3=train.drop(['Survived','Fare'],axis=1)\n",
    "test_3 = test.drop(['Fare'],axis=1)\n",
    "train_ft.head()\n",
    "# ml\n",
    "kf = KFold(n_splits=3,random_state=1)\n",
    "acc_lst = []\n",
    "ml(train_ft_3,train_y,'test_3')"
   ]
  },
  {
   "cell_type": "code",
   "execution_count": 29,
   "metadata": {
    "colab": {
     "base_uri": "https://localhost:8080/",
     "height": 170
    },
    "colab_type": "code",
    "executionInfo": {
     "elapsed": 803,
     "status": "ok",
     "timestamp": 1550008417253,
     "user": {
      "displayName": "Мария Мацкевичус",
      "photoUrl": "",
      "userId": "00635400777092193911"
     },
     "user_tz": -180
    },
    "id": "Mjdr1wpKs069",
    "outputId": "bbb65bbb-8ef7-4cd2-c6b2-23d2a5c9ea8f"
   },
   "outputs": [
    {
     "name": "stdout",
     "output_type": "stream",
     "text": [
      "  Features  Coefficient Estimate\n",
      "0      Age             -0.035955\n",
      "1     Fare              0.142432\n",
      "2        1              1.172800\n",
      "3        2              0.337543\n",
      "4        3             -0.837621\n",
      "5   female              1.667866\n",
      "6     male             -0.995144\n",
      "7   family             -0.213682\n",
      "8        C              0.437340\n",
      "9        Q              0.348857\n"
     ]
    }
   ],
   "source": [
    "# test4, get rid of S \n",
    "train_ft_4=train.drop(['Survived','S'],axis=1)\n",
    "test_4 = test.drop('S',axis=1)\n",
    "# ml\n",
    "kf = KFold(n_splits=3,random_state=1)\n",
    "acc_lst = []\n",
    "ml(train_ft_4,train_y,'test_4')"
   ]
  },
  {
   "cell_type": "code",
   "execution_count": 30,
   "metadata": {
    "colab": {
     "base_uri": "https://localhost:8080/",
     "height": 153
    },
    "colab_type": "code",
    "executionInfo": {
     "elapsed": 563,
     "status": "ok",
     "timestamp": 1550008424365,
     "user": {
      "displayName": "Мария Мацкевичус",
      "photoUrl": "",
      "userId": "00635400777092193911"
     },
     "user_tz": -180
    },
    "id": "k_VmyfNNs3hU",
    "outputId": "3419754e-e16d-41f5-d0f4-2ab7f09bcd7a"
   },
   "outputs": [
    {
     "name": "stdout",
     "output_type": "stream",
     "text": [
      "  Features  Coefficient Estimate\n",
      "0        1              0.857889\n",
      "1        2              0.188166\n",
      "2        3             -0.892444\n",
      "3   female              1.417844\n",
      "4     male             -1.264233\n",
      "5   family             -0.131648\n",
      "6        C              0.315941\n",
      "7        Q              0.074208\n",
      "8        S             -0.236539\n"
     ]
    }
   ],
   "source": [
    "# test5, lose Fare and Age\n",
    "train_ft_5=train.drop(['Survived','Fare','Age'],axis=1)\n",
    "test_5 = test.drop(['Fare'],axis=1)\n",
    "train_ft.head()\n",
    "# ml\n",
    "kf = KFold(n_splits=3,random_state=1)\n",
    "acc_lst = []\n",
    "ml(train_ft_5,train_y,'test_5')"
   ]
  },
  {
   "cell_type": "code",
   "execution_count": 31,
   "metadata": {
    "colab": {
     "base_uri": "https://localhost:8080/",
     "height": 235
    },
    "colab_type": "code",
    "executionInfo": {
     "elapsed": 536,
     "status": "ok",
     "timestamp": 1550008432977,
     "user": {
      "displayName": "Мария Мацкевичус",
      "photoUrl": "",
      "userId": "00635400777092193911"
     },
     "user_tz": -180
    },
    "id": "qxS28skjs5UA",
    "outputId": "7e5c70f5-31de-4160-d3d6-318c123b352f"
   },
   "outputs": [
    {
     "data": {
      "text/html": [
       "<div>\n",
       "<style scoped>\n",
       "    .dataframe tbody tr th:only-of-type {\n",
       "        vertical-align: middle;\n",
       "    }\n",
       "\n",
       "    .dataframe tbody tr th {\n",
       "        vertical-align: top;\n",
       "    }\n",
       "\n",
       "    .dataframe thead th {\n",
       "        text-align: right;\n",
       "    }\n",
       "</style>\n",
       "<table border=\"1\" class=\"dataframe\">\n",
       "  <thead>\n",
       "    <tr style=\"text-align: right;\">\n",
       "      <th></th>\n",
       "      <th>logistic</th>\n",
       "      <th>rf</th>\n",
       "      <th>svc</th>\n",
       "      <th>knn</th>\n",
       "    </tr>\n",
       "  </thead>\n",
       "  <tbody>\n",
       "    <tr>\n",
       "      <th>test1</th>\n",
       "      <td>0.797980</td>\n",
       "      <td>0.813692</td>\n",
       "      <td>0.810325</td>\n",
       "      <td>0.772166</td>\n",
       "    </tr>\n",
       "    <tr>\n",
       "      <th>test2</th>\n",
       "      <td>0.792368</td>\n",
       "      <td>0.803591</td>\n",
       "      <td>0.810325</td>\n",
       "      <td>0.783389</td>\n",
       "    </tr>\n",
       "    <tr>\n",
       "      <th>test3</th>\n",
       "      <td>0.791246</td>\n",
       "      <td>0.800224</td>\n",
       "      <td>0.809203</td>\n",
       "      <td>0.783389</td>\n",
       "    </tr>\n",
       "    <tr>\n",
       "      <th>test4</th>\n",
       "      <td>0.799102</td>\n",
       "      <td>0.814815</td>\n",
       "      <td>0.806958</td>\n",
       "      <td>0.776655</td>\n",
       "    </tr>\n",
       "    <tr>\n",
       "      <th>test5</th>\n",
       "      <td>0.790123</td>\n",
       "      <td>0.793490</td>\n",
       "      <td>0.809203</td>\n",
       "      <td>0.756453</td>\n",
       "    </tr>\n",
       "  </tbody>\n",
       "</table>\n",
       "</div>"
      ],
      "text/plain": [
       "       logistic        rf       svc       knn\n",
       "test1  0.797980  0.813692  0.810325  0.772166\n",
       "test2  0.792368  0.803591  0.810325  0.783389\n",
       "test3  0.791246  0.800224  0.809203  0.783389\n",
       "test4  0.799102  0.814815  0.806958  0.776655\n",
       "test5  0.790123  0.793490  0.809203  0.756453"
      ]
     },
     "execution_count": 31,
     "metadata": {},
     "output_type": "execute_result"
    }
   ],
   "source": [
    "accuracy_df=pd.DataFrame(data=accuracy,\n",
    "                         index=['test1','test2','test3','test4','test5'],\n",
    "                         columns=['logistic','rf','svc','knn'])\n",
    "accuracy_df"
   ]
  },
  {
   "cell_type": "markdown",
   "metadata": {
    "colab": {},
    "colab_type": "code",
    "id": "X7VIcJ3ktGUV"
   },
   "source": [
    "<b>Trying to improve this model with GridSearch</b>"
   ]
  },
  {
   "cell_type": "code",
   "execution_count": 32,
   "metadata": {},
   "outputs": [],
   "source": [
    "from sklearn.model_selection import GridSearchCV\n",
    "\n",
    "rf = RandomForestClassifier()\n",
    "parameters = {'n_estimators': [100, 200, 300, 500, 1000],\n",
    "              'max_features': [None],\n",
    "              'max_depth': [None]}\n",
    "clf = GridSearchCV(rf, parameters, verbose=0)\n"
   ]
  },
  {
   "cell_type": "code",
   "execution_count": 33,
   "metadata": {},
   "outputs": [
    {
     "data": {
      "text/plain": [
       "GridSearchCV(cv='warn', error_score='raise-deprecating',\n",
       "       estimator=RandomForestClassifier(bootstrap=True, class_weight=None, criterion='gini',\n",
       "            max_depth=None, max_features='auto', max_leaf_nodes=None,\n",
       "            min_impurity_decrease=0.0, min_impurity_split=None,\n",
       "            min_samples_leaf=1, min_samples_split=2,\n",
       "            min_weight_fraction_leaf=0.0, n_estimators='warn', n_jobs=None,\n",
       "            oob_score=False, random_state=None, verbose=0,\n",
       "            warm_start=False),\n",
       "       fit_params=None, iid='warn', n_jobs=None,\n",
       "       param_grid={'n_estimators': [100, 200, 300, 500, 1000], 'max_features': [None], 'max_depth': [None]},\n",
       "       pre_dispatch='2*n_jobs', refit=True, return_train_score='warn',\n",
       "       scoring=None, verbose=0)"
      ]
     },
     "execution_count": 33,
     "metadata": {},
     "output_type": "execute_result"
    }
   ],
   "source": [
    "X_train, y_train = train.drop(['Survived'], axis = 1), train['Survived']\n",
    "clf.fit(X_train, y_train)"
   ]
  },
  {
   "cell_type": "code",
   "execution_count": 34,
   "metadata": {},
   "outputs": [
    {
     "name": "stdout",
     "output_type": "stream",
     "text": [
      "n_estimators: 100\n",
      " max_features: None\n",
      " max_depth: None\n",
      "\n"
     ]
    }
   ],
   "source": [
    "print('n_estimators: {}\\n max_features: {}\\n max_depth: {}\\n'\n",
    "      .format(clf.best_estimator_.n_estimators, clf.best_estimator_.max_features, clf.best_estimator_.max_depth))"
   ]
  },
  {
   "cell_type": "code",
   "execution_count": 35,
   "metadata": {},
   "outputs": [],
   "source": [
    "X_train, y_train = train.drop('Survived', axis = 1), train['Survived']\n",
    "rf = RandomForestClassifier(n_estimators=200, max_features=None, max_depth=None, random_state = 13)\n"
   ]
  },
  {
   "cell_type": "code",
   "execution_count": 36,
   "metadata": {},
   "outputs": [
    {
     "data": {
      "text/plain": [
       "RandomForestClassifier(bootstrap=True, class_weight=None, criterion='gini',\n",
       "            max_depth=None, max_features=None, max_leaf_nodes=None,\n",
       "            min_impurity_decrease=0.0, min_impurity_split=None,\n",
       "            min_samples_leaf=1, min_samples_split=2,\n",
       "            min_weight_fraction_leaf=0.0, n_estimators=200, n_jobs=None,\n",
       "            oob_score=False, random_state=13, verbose=0, warm_start=False)"
      ]
     },
     "execution_count": 36,
     "metadata": {},
     "output_type": "execute_result"
    }
   ],
   "source": [
    "rf.fit(X_train, y_train)"
   ]
  },
  {
   "cell_type": "code",
   "execution_count": 37,
   "metadata": {},
   "outputs": [],
   "source": [
    "kf = KFold(n_splits=3,random_state=1)"
   ]
  },
  {
   "cell_type": "code",
   "execution_count": 38,
   "metadata": {},
   "outputs": [
    {
     "name": "stdout",
     "output_type": "stream",
     "text": [
      "0.8002244668911335\n"
     ]
    }
   ],
   "source": [
    "acc = cross_val_score(rf,X_train,y_train,cv=kf)\n",
    "print(acc.mean())"
   ]
  }
 ],
 "metadata": {
  "colab": {
   "name": "ML pipeline.ipynb",
   "provenance": [],
   "version": "0.3.2"
  },
  "kernelspec": {
   "display_name": "Python 3",
   "language": "python",
   "name": "python3"
  },
  "language_info": {
   "codemirror_mode": {
    "name": "ipython",
    "version": 3
   },
   "file_extension": ".py",
   "mimetype": "text/x-python",
   "name": "python",
   "nbconvert_exporter": "python",
   "pygments_lexer": "ipython3",
   "version": "3.7.3"
  }
 },
 "nbformat": 4,
 "nbformat_minor": 1
}
